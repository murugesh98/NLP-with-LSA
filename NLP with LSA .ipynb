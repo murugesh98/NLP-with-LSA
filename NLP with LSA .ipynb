{
 "cells": [
  {
   "cell_type": "code",
   "execution_count": 1,
   "metadata": {},
   "outputs": [],
   "source": [
    "import re\n",
    "import numpy as np\n",
    "import pandas as pd\n",
    "from scipy import linalg, spatial\n",
    "from sklearn.cluster import KMeans\n",
    "from sklearn.decomposition import PCA, SparsePCA, TruncatedSVD\n",
    "from sklearn.feature_extraction.text import (CountVectorizer, TfidfTransformer, TfidfVectorizer)\n",
    "from sklearn.cluster import KMeans\n",
    "\n",
    "from sklearn.utils.extmath import randomized_svd\n",
    "\n",
    "from nltk.tokenize import word_tokenize\n",
    "from nltk.corpus import stopwords"
   ]
  },
  {
   "cell_type": "code",
   "execution_count": 4,
   "metadata": {},
   "outputs": [],
   "source": [
    "corpus = [\"With all of the critical success Downey had experienced throughout his career, he had not appeared in a blockbuster film. That changed in 2008 when Downey starred in two critically and commercially successful films, Iron Man and Tropic Thunder. In the article Ben Stiller wrote for Downey's entry in the 2008 edition of The Time 100, he offered an observation on Downey's commercially successful summer at the box office.\",\n",
    "          \"On June 14, 2010, Downey and his wife Susan opened their own production company called Team Downey. Their first project was The Judge.\",\n",
    "          \"Robert John Downey Jr. is an American actor, producer, and singer. His career has been characterized by critical and popular success in his youth, followed by a period of substance abuse and legal troubles, before a resurgence of commercial success in middle age.\",\n",
    "          \"In 2008, Downey was named by Time magazine among the 100 most influential people in the world, and from 2013 to 2015, he was listed by Forbes as Hollywood's highest-paid actor. His films have grossed over $14.4 billion worldwide, making him the second highest-grossing box-office star of all time.\"]\n",
    "\n",
    "stop_words = set(stopwords.words('english'))"
   ]
  },
  {
   "cell_type": "code",
   "execution_count": 5,
   "metadata": {},
   "outputs": [],
   "source": [
    "filtered_document= []\n",
    "filtered_text = []\n",
    "\n",
    "for document in corpus:\n",
    "    \n",
    "    clean_document = \" \".join(re.sub(r\"[^A-Za-z \\—]+\", \" \", document).split())\n",
    "    \n",
    "    document_tokens = word_tokenize(clean_document)\n",
    "\n",
    "    for word in document_tokens:\n",
    "        if word not in stop_words:\n",
    "            filtered_document.append(word)\n",
    "\n",
    "    filtered_text.append(' '.join(filtered_document))"
   ]
  },
  {
   "cell_type": "code",
   "execution_count": 6,
   "metadata": {},
   "outputs": [
    {
     "name": "stdout",
     "output_type": "stream",
     "text": [
      "Word frequency matrix: \n",
      "             abuse  actor  age  american  among  appeared  article  ben  \\\n",
      "Document 1      0      0    0         0      0         1        1    1   \n",
      "Document 2      0      0    0         0      0         1        1    1   \n",
      "Document 3      1      1    1         1      0         1        1    1   \n",
      "Document 4      1      2    1         1      1         1        1    1   \n",
      "\n",
      "            billion  blockbuster  ...  time  tropic  troubles  two  wife  \\\n",
      "Document 1        0            1  ...     1       1         0    1     0   \n",
      "Document 2        0            1  ...     1       1         0    1     1   \n",
      "Document 3        0            1  ...     1       1         1    1     1   \n",
      "Document 4        1            1  ...     3       1         1    1     1   \n",
      "\n",
      "            with  world  worldwide  wrote  youth  \n",
      "Document 1     1      0          0      1      0  \n",
      "Document 2     1      0          0      1      0  \n",
      "Document 3     1      0          0      1      1  \n",
      "Document 4     1      1          1      1      1  \n",
      "\n",
      "[4 rows x 88 columns]\n"
     ]
    }
   ],
   "source": [
    "vectorizer = CountVectorizer()\n",
    "\n",
    "counts_matrix = vectorizer.fit_transform(filtered_text)\n",
    "\n",
    "feature_names = vectorizer.get_feature_names()\n",
    "\n",
    "count_matrix_df = pd.DataFrame(counts_matrix.toarray(), columns=feature_names)\n",
    "count_matrix_df.index = ['Document 1','Document 2','Document 3','Document 4']\n",
    "\n",
    "print(\"Word frequency matrix: \\n\", count_matrix_df)"
   ]
  },
  {
   "cell_type": "code",
   "execution_count": 7,
   "metadata": {},
   "outputs": [
    {
     "name": "stdout",
     "output_type": "stream",
     "text": [
      "(4, 139)\n",
      "['abuse', 'actor', 'age', 'american', 'among', 'appeared', 'article', 'ben', 'billion', 'blockbuster', 'box', 'called', 'career', 'changed', 'characterized', 'commercial', 'commercially', 'company', 'critical', 'critically', 'downey', 'edition', 'entry', 'experienced', 'film', 'films', 'first', 'followed', 'forbes', 'grossed', 'grossing', 'highest', 'his', 'hollywood', 'in', 'influential', 'iron', 'john', 'jr', 'judge', 'june', 'legal', 'listed', 'magazine', 'making', 'man', 'middle', 'named', 'observation', 'offered', 'office', 'on', 'opened', 'paid', 'people', 'period', 'popular', 'producer', 'production', 'project', 'resurgence', 'robert', 'second', 'singer', 'star', 'starred', 'stiller', 'substance', 'success', 'successful', 'summer', 'susan', 'team', 'that', 'the', 'their', 'throughout', 'thunder', 'time', 'tropic', 'troubles', 'two', 'wife', 'with', 'world', 'worldwide', 'wrote', 'youth']\n",
      "here\n",
      "[0, 0, 1, 2]\n"
     ]
    },
    {
     "name": "stderr",
     "output_type": "stream",
     "text": [
      "D:\\Anaconda\\lib\\site-packages\\sklearn\\cluster\\k_means_.py:971: ConvergenceWarning: Number of distinct clusters (3) found smaller than n_clusters (4). Possibly due to duplicate points in X.\n",
      "  return_n_iter=True)\n"
     ]
    }
   ],
   "source": [
    "vectorizer = TfidfVectorizer(stop_words=stop_words,max_features=10000, max_df = 0.5,\n",
    "                                    use_idf = True,\n",
    "                                    ngram_range=(1,3))\n",
    "\n",
    "X = vectorizer.fit_transform(filtered_text)\n",
    "\n",
    "print(X.shape)\n",
    "\n",
    "print(feature_names)\n",
    "\n",
    "num_clusters = 4\n",
    "\n",
    "km = KMeans(n_clusters=num_clusters)\n",
    "\n",
    "print(\"here\")\n",
    "km.fit(X)\n",
    "    \n",
    "\n",
    "clusters = km.labels_.tolist()\n",
    "\n",
    "print(clusters)"
   ]
  },
  {
   "cell_type": "code",
   "execution_count": 11,
   "metadata": {},
   "outputs": [
    {
     "name": "stdout",
     "output_type": "stream",
     "text": [
      "(4, 4)\n",
      "Cluster 0: \n",
      "american\n",
      "age\n",
      "actor\n",
      "article\n",
      "ben\n",
      "billion\n",
      "called\n",
      " \n",
      "Cluster 1: \n",
      "actor\n",
      "article\n",
      "ben\n",
      "billion\n",
      "called\n",
      "career\n",
      "changed\n",
      " \n",
      "Cluster 2: \n",
      "american\n",
      "age\n",
      "actor\n",
      "among\n",
      "appeared\n",
      "blockbuster\n",
      "box\n",
      " \n",
      "Cluster 3: \n",
      "american\n",
      "actor\n",
      "abuse\n",
      "article\n",
      "ben\n",
      "billion\n",
      "called\n",
      " \n"
     ]
    }
   ],
   "source": [
    "U, Sigma, VT = randomized_svd(X, n_components=10, n_iter=100, random_state=122)\n",
    "\n",
    "svd_model = TruncatedSVD(n_components=2, algorithm='randomized', n_iter=100, random_state=122)\n",
    "\n",
    "svd_model.fit(X)\n",
    "    \n",
    "print(U.shape)\n",
    "\n",
    "for i, comp in enumerate(VT):\n",
    "    terms_comp = zip(feature_names, comp)\n",
    "    sorted_terms = sorted(terms_comp, key= lambda x:x[1], reverse=True)[:7]\n",
    "    print(\"Cluster \"+str(i)+\": \")\n",
    "    for t in sorted_terms:\n",
    "        print(t[0])\n",
    "    print(\" \")"
   ]
  },
  {
   "cell_type": "code",
   "execution_count": null,
   "metadata": {},
   "outputs": [],
   "source": []
  }
 ],
 "metadata": {
  "kernelspec": {
   "display_name": "Python 3",
   "language": "python",
   "name": "python3"
  },
  "language_info": {
   "codemirror_mode": {
    "name": "ipython",
    "version": 3
   },
   "file_extension": ".py",
   "mimetype": "text/x-python",
   "name": "python",
   "nbconvert_exporter": "python",
   "pygments_lexer": "ipython3",
   "version": "3.7.3"
  }
 },
 "nbformat": 4,
 "nbformat_minor": 2
}
